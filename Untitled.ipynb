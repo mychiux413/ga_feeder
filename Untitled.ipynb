{
 "cells": [
  {
   "cell_type": "code",
   "execution_count": 34,
   "metadata": {},
   "outputs": [],
   "source": [
    "from bs4 import BeautifulSoup, Comment\n",
    "import re\n",
    "\n",
    "with open('feed_in', 'r') as thefile:\n",
    "    feed_in = thefile.read()\n",
    "feed_in\n",
    "feed_in = BeautifulSoup(feed_in, 'html.parser')\n",
    "\n",
    "\n",
    "def read_html(path):\n",
    "    with open(path, 'r') as thefile:\n",
    "        out = thefile.read()\n",
    "    return out\n",
    "\n",
    "#print(read_html('tests/data/MTS-exhi.html'))\n",
    "soup = BeautifulSoup(read_html('tests/data/MTS-exhi.html'), 'html.parser')\n",
    "soup.head.append(feed_in)\n",
    "\n",
    "with open('out', 'w') as thefile:\n",
    "    thefile.write(str(soup))\n",
    "# comment = Comment(' #mycomment ')\n",
    "# soup.head.insert(-1, comment)\n"
   ]
  },
  {
   "cell_type": "code",
   "execution_count": 69,
   "metadata": {},
   "outputs": [
    {
     "name": "stdout",
     "output_type": "stream",
     "text": [
      "export at /home/yihuachiu/repo/ga_feeder/tests_out\n"
     ]
    }
   ],
   "source": [
    "import os, shutil\n",
    "import easygui\n",
    "\n",
    "def main():\n",
    "\n",
    "    dirname = easygui.diropenbox()\n",
    "    # print(dirname)\n",
    "    with open('feed_in', 'r') as thefile:\n",
    "        feed_in = thefile.read()\n",
    "\n",
    "    def embedded_html(path, feed_in):\n",
    "        with open(path, 'r') as thefile:\n",
    "            out = thefile.read()\n",
    "        feed_in = '\\n'.join([' '*4 + line for line in feed_in.split('\\n')])\n",
    "\n",
    "        out = re.sub(\"</head>\", feed_in + \"\\n</head>\", out)\n",
    "        return out\n",
    "\n",
    "\n",
    "    dst_dir = dirname + '_out'\n",
    "\n",
    "    if os.path.exists(dst_dir):\n",
    "        print(\"out dir is exists, bypass!\")\n",
    "        return None\n",
    "    shutil.copytree(src=dirname, dst=dst_dir)\n",
    "\n",
    "\n",
    "    for walk in os.walk(dst_dir):\n",
    "        files = walk[2]\n",
    "        for fname in files:\n",
    "            if fname.endswith('.html'):\n",
    "                html_path = os.path.join(walk[0], fname)\n",
    "                html = embedded_html(html_path, feed_in)\n",
    "                with open(html_path, 'w') as thefile:\n",
    "                    thefile.write(html)\n",
    "    print('export at {}'.format(dst_dir))\n",
    "main()"
   ]
  },
  {
   "cell_type": "code",
   "execution_count": 67,
   "metadata": {},
   "outputs": [],
   "source": []
  },
  {
   "cell_type": "code",
   "execution_count": 68,
   "metadata": {},
   "outputs": [
    {
     "data": {
      "text/plain": [
       "'/home/yihuachiu/repo/ga_feeder/tests'"
      ]
     },
     "execution_count": 68,
     "metadata": {},
     "output_type": "execute_result"
    }
   ],
   "source": [
    "dirname"
   ]
  }
 ],
 "metadata": {
  "kernelspec": {
   "display_name": "dialogflow36",
   "language": "python",
   "name": "dialogflow36"
  },
  "language_info": {
   "codemirror_mode": {
    "name": "ipython",
    "version": 3
   },
   "file_extension": ".py",
   "mimetype": "text/x-python",
   "name": "python",
   "nbconvert_exporter": "python",
   "pygments_lexer": "ipython3",
   "version": "3.6.4"
  }
 },
 "nbformat": 4,
 "nbformat_minor": 2
}
